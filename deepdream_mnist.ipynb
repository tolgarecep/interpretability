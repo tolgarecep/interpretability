{
  "nbformat": 4,
  "nbformat_minor": 0,
  "metadata": {
    "colab": {
      "name": "mnist.ipynb",
      "provenance": [],
      "collapsed_sections": []
    },
    "kernelspec": {
      "name": "python3",
      "display_name": "Python 3"
    },
    "language_info": {
      "name": "python"
    },
    "accelerator": "GPU"
  },
  "cells": [
    {
      "cell_type": "markdown",
      "source": [
        "# training"
      ],
      "metadata": {
        "id": "ChyFEeg6gzOZ"
      }
    },
    {
      "cell_type": "code",
      "source": [
        "import tensorflow as tf\n",
        "import numpy as np\n",
        "import pandas as pd\n",
        "import matplotlib.pyplot as plt\n",
        "import PIL\n",
        "import IPython.display as display"
      ],
      "metadata": {
        "id": "xKvriKa1gYwS"
      },
      "execution_count": null,
      "outputs": []
    },
    {
      "cell_type": "code",
      "source": [
        "mnist = tf.keras.datasets.mnist\n",
        "(train_images, train_labels), (test_images, test_labels) = mnist.load_data()"
      ],
      "metadata": {
        "colab": {
          "base_uri": "https://localhost:8080/"
        },
        "id": "9fzudcq7gclE",
        "outputId": "6a0beb7e-508e-47ab-a7b8-2169afdde174"
      },
      "execution_count": null,
      "outputs": [
        {
          "output_type": "stream",
          "name": "stdout",
          "text": [
            "Downloading data from https://storage.googleapis.com/tensorflow/tf-keras-datasets/mnist.npz\n",
            "11493376/11490434 [==============================] - 0s 0us/step\n",
            "11501568/11490434 [==============================] - 0s 0us/step\n"
          ]
        }
      ]
    },
    {
      "cell_type": "code",
      "source": [
        "train_images = train_images / 255.0\n",
        "test_images = test_images / 255.0"
      ],
      "metadata": {
        "id": "CZjfD7BCgeHp"
      },
      "execution_count": null,
      "outputs": []
    },
    {
      "cell_type": "code",
      "source": [
        "model = tf.keras.Sequential([\n",
        "    tf.keras.layers.Flatten(input_shape=(28, 28)),\n",
        "    tf.keras.layers.Dense(64, activation='relu'),\n",
        "    tf.keras.layers.Dense(64, activation='relu'),\n",
        "    tf.keras.layers.Dense(10)])"
      ],
      "metadata": {
        "id": "m5OIFcysgfLx"
      },
      "execution_count": null,
      "outputs": []
    },
    {
      "cell_type": "code",
      "source": [
        "model.summary()"
      ],
      "metadata": {
        "colab": {
          "base_uri": "https://localhost:8080/"
        },
        "id": "9T0KYlvVggv4",
        "outputId": "4be63a2b-8b99-4c0e-d52c-8e96e893e57a"
      },
      "execution_count": null,
      "outputs": [
        {
          "output_type": "stream",
          "name": "stdout",
          "text": [
            "Model: \"sequential\"\n",
            "_________________________________________________________________\n",
            " Layer (type)                Output Shape              Param #   \n",
            "=================================================================\n",
            " flatten (Flatten)           (None, 784)               0         \n",
            "                                                                 \n",
            " dense (Dense)               (None, 64)                50240     \n",
            "                                                                 \n",
            " dense_1 (Dense)             (None, 64)                4160      \n",
            "                                                                 \n",
            " dense_2 (Dense)             (None, 10)                650       \n",
            "                                                                 \n",
            "=================================================================\n",
            "Total params: 55,050\n",
            "Trainable params: 55,050\n",
            "Non-trainable params: 0\n",
            "_________________________________________________________________\n"
          ]
        }
      ]
    },
    {
      "cell_type": "code",
      "source": [
        "model.compile(optimizer='adam',\n",
        "              loss=tf.keras.losses.SparseCategoricalCrossentropy(from_logits=True),\n",
        "              metrics=['accuracy'])"
      ],
      "metadata": {
        "id": "aGtMwK3UghuX"
      },
      "execution_count": null,
      "outputs": []
    },
    {
      "cell_type": "code",
      "source": [
        "model.fit(train_images, train_labels, epochs=10)"
      ],
      "metadata": {
        "colab": {
          "base_uri": "https://localhost:8080/"
        },
        "id": "wvfrCfn5giyr",
        "outputId": "f9947edd-8f8b-4689-f95f-ff9dad8bcfa4"
      },
      "execution_count": null,
      "outputs": [
        {
          "output_type": "stream",
          "name": "stdout",
          "text": [
            "Epoch 1/10\n",
            "1875/1875 [==============================] - 15s 6ms/step - loss: 0.2779 - accuracy: 0.9198\n",
            "Epoch 2/10\n",
            "1875/1875 [==============================] - 7s 4ms/step - loss: 0.1268 - accuracy: 0.9619\n",
            "Epoch 3/10\n",
            "1875/1875 [==============================] - 6s 3ms/step - loss: 0.0915 - accuracy: 0.9718\n",
            "Epoch 4/10\n",
            "1875/1875 [==============================] - 6s 3ms/step - loss: 0.0730 - accuracy: 0.9776\n",
            "Epoch 5/10\n",
            "1875/1875 [==============================] - 6s 3ms/step - loss: 0.0583 - accuracy: 0.9810\n",
            "Epoch 6/10\n",
            "1875/1875 [==============================] - 6s 3ms/step - loss: 0.0496 - accuracy: 0.9839\n",
            "Epoch 7/10\n",
            "1875/1875 [==============================] - 6s 3ms/step - loss: 0.0434 - accuracy: 0.9863\n",
            "Epoch 8/10\n",
            "1875/1875 [==============================] - 6s 3ms/step - loss: 0.0352 - accuracy: 0.9883\n",
            "Epoch 9/10\n",
            "1875/1875 [==============================] - 6s 3ms/step - loss: 0.0317 - accuracy: 0.9893\n",
            "Epoch 10/10\n",
            "1875/1875 [==============================] - 6s 3ms/step - loss: 0.0280 - accuracy: 0.9908\n"
          ]
        },
        {
          "output_type": "execute_result",
          "data": {
            "text/plain": [
              "<keras.callbacks.History at 0x7faef0413f90>"
            ]
          },
          "metadata": {},
          "execution_count": 7
        }
      ]
    },
    {
      "cell_type": "code",
      "source": [
        "test_loss, test_acc = model.evaluate(test_images,  test_labels, verbose=2)\n",
        "test_acc"
      ],
      "metadata": {
        "colab": {
          "base_uri": "https://localhost:8080/"
        },
        "id": "m9Zz8_5jgkPD",
        "outputId": "722b2b22-0649-495d-9c8f-b115af983009"
      },
      "execution_count": null,
      "outputs": [
        {
          "output_type": "stream",
          "name": "stdout",
          "text": [
            "313/313 - 1s - loss: 0.1016 - accuracy: 0.9739 - 955ms/epoch - 3ms/step\n"
          ]
        },
        {
          "output_type": "execute_result",
          "data": {
            "text/plain": [
              "0.9739000201225281"
            ]
          },
          "metadata": {},
          "execution_count": 8
        }
      ]
    },
    {
      "cell_type": "markdown",
      "source": [
        "# visualizing dense_1, neuron 32 with optimization"
      ],
      "metadata": {
        "id": "lhrTGZOEgqcv"
      }
    },
    {
      "cell_type": "code",
      "source": [
        "dream_model = tf.keras.models.Model(inputs=model.input, outputs=model.get_layer('dense_1').output)"
      ],
      "metadata": {
        "id": "LyYcIgp2goDr"
      },
      "execution_count": null,
      "outputs": []
    },
    {
      "cell_type": "markdown",
      "source": [
        "optimization objective: maximize activation of dense_1, neuron 32"
      ],
      "metadata": {
        "id": "pjJPSBkRg96L"
      }
    },
    {
      "cell_type": "code",
      "source": [
        "def calc_loss_neuron(img, model):\n",
        "  img_batch = tf.expand_dims(img, axis=0)\n",
        "  dense_1_acts = dream_model(img_batch)\n",
        "  act = dense_1_acts[0][32]\n",
        "  return tf.convert_to_tensor(act)"
      ],
      "metadata": {
        "id": "60as3uLGg9ct"
      },
      "execution_count": null,
      "outputs": []
    },
    {
      "cell_type": "code",
      "source": [
        "def calc_loss_layer(img, model):\n",
        "# Pass forward the image through the model to retrieve the activations.\n",
        "# Converts the image into a batch of size 1.\n",
        "  img_batch = tf.expand_dims(img, axis=0)\n",
        "  layer_activations = model(img_batch)\n",
        "  if len(layer_activations) == 1:\n",
        "    layer_activations = [layer_activations]\n",
        "\n",
        "  losses = []\n",
        "  for act in layer_activations:\n",
        "    loss = tf.math.reduce_mean(act)\n",
        "    losses.append(loss)\n",
        "    \n",
        "    return  tf.reduce_sum(losses)"
      ],
      "metadata": {
        "id": "4kdXJterZ9L0"
      },
      "execution_count": null,
      "outputs": []
    },
    {
      "cell_type": "code",
      "source": [
        "# Normalize an image\n",
        "def deprocess(img):\n",
        "  img = 255*(img + 1.0)/2.0\n",
        "  return tf.cast(img, tf.uint8)\n",
        "\n",
        "# Display an image\n",
        "def show(img):\n",
        "  display.display(PIL.Image.fromarray(np.array(img)))"
      ],
      "metadata": {
        "id": "b2d2zmpqwTYc"
      },
      "execution_count": null,
      "outputs": []
    },
    {
      "cell_type": "markdown",
      "source": [
        "deepdream"
      ],
      "metadata": {
        "id": "Q50sdwfKkTH6"
      }
    },
    {
      "cell_type": "code",
      "source": [
        "def DeepDream(dream_model, img, steps=100, step_size=0.01):\n",
        "  # img is np array with shape (1,28,28), normalized\n",
        "  step_size = tf.convert_to_tensor(step_size)\n",
        "  steps_remaining = steps\n",
        "  step = 0\n",
        "  while steps_remaining:\n",
        "    if steps_remaining > 100:\n",
        "      run_steps = tf.constant(100)\n",
        "    else:\n",
        "      run_steps = tf.constant(steps_remaining)\n",
        "    steps_remaining -= run_steps\n",
        "    step += run_steps\n",
        "\n",
        "    for n in tf.range(steps):\n",
        "      with tf.GradientTape() as tape:\n",
        "        tape.watch(img)\n",
        "        loss = calc_loss_neuron(img, dream_model)\n",
        "      gradients = tape.gradient(loss, img)\n",
        "      gradients /= tf.math.reduce_std(gradients) + 1e-8 # normalize the gradients\n",
        "      \n",
        "      img = img + gradients * step_size\n",
        "      img = tf.clip_by_value(img, -1, 1) \n",
        "    \n",
        "    display.clear_output(wait=True)\n",
        "    show(deprocess(img))\n",
        "    print('step {}, loss {}'.format(step, loss))\n",
        "  \n",
        "  result = deprocess(img)\n",
        "  display.clear_output(wait=True)\n",
        "  plt.figure()\n",
        "  plt.imshow(result)"
      ],
      "metadata": {
        "id": "6WTbLO06bHRL"
      },
      "execution_count": null,
      "outputs": []
    },
    {
      "cell_type": "markdown",
      "source": [
        "random input:"
      ],
      "metadata": {
        "id": "etSvquwRkmdf"
      }
    },
    {
      "cell_type": "code",
      "source": [
        "noise = tf.random.uniform((28,28)) / 255.0"
      ],
      "metadata": {
        "id": "cfZqisFnkm34"
      },
      "execution_count": null,
      "outputs": []
    },
    {
      "cell_type": "markdown",
      "source": [
        "optimizing for maximal neuron activation:"
      ],
      "metadata": {
        "id": "pHLleu5FfYED"
      }
    },
    {
      "cell_type": "code",
      "source": [
        "DeepDream(dream_model, noise)"
      ],
      "metadata": {
        "colab": {
          "base_uri": "https://localhost:8080/",
          "height": 265
        },
        "id": "RnPoJzUJe9H7",
        "outputId": "56a36254-6991-4426-adc1-5575867c3114"
      },
      "execution_count": null,
      "outputs": [
        {
          "output_type": "display_data",
          "data": {
            "text/plain": [
              "<Figure size 432x288 with 1 Axes>"
            ],
            "image/png": "[encoded data removed]"
          },
          "metadata": {
            "needs_background": "light"
          }
        }
      ]
    },
    {
      "cell_type": "markdown",
      "source": [
        "optimizing for maximal layer activation:"
      ],
      "metadata": {
        "id": "qmlb9xL1fRLL"
      }
    },
    {
      "cell_type": "code",
      "source": [
        "DeepDream(dream_model, noise)"
      ],
      "metadata": {
        "id": "SBjNZq43kPTk",
        "colab": {
          "base_uri": "https://localhost:8080/",
          "height": 265
        },
        "outputId": "1f5042c4-5dfe-4945-8cbd-34ebe77141a3"
      },
      "execution_count": null,
      "outputs": [
        {
          "output_type": "display_data",
          "data": {
            "text/plain": [
              "<Figure size 432x288 with 1 Axes>"
            ],
            "image/png": "[encoded data removed]"
          },
          "metadata": {
            "needs_background": "light"
          }
        }
      ]
    }
  ]
}
